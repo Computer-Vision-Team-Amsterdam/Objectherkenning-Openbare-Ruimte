{
 "cells": [
  {
   "cell_type": "code",
   "execution_count": null,
   "metadata": {},
   "outputs": [],
   "source": [
    "import numpy as np\n",
    "import cv2\n",
    "import os\n",
    "import pathlib\n",
    "\n",
    "from typing import List\n",
    "\n",
    "from ultralytics import YOLO\n",
    "from ultralytics.engine.results import Boxes, Results\n",
    "\n",
    "from objectherkenning_openbare_ruimte.data_minimisation import blurring_tools\n",
    "\n",
    "PERSON = 0\n",
    "LICENSE_PLATE = 1\n",
    "CONTAINER = 2\n",
    "\n",
    "target_classes = [CONTAINER]\n",
    "sensitive_classes = [PERSON, LICENSE_PLATE]\n",
    "\n",
    "\n",
    "def _get_annotion_string_from_boxes(boxes: Boxes) -> str:\n",
    "    boxes = boxes.cpu()\n",
    "\n",
    "    annotation_lines = []\n",
    "\n",
    "    for box in boxes:\n",
    "        cls = int(box.cls.squeeze())\n",
    "        conf = float(box.conf.squeeze())\n",
    "        tracking_id = int(box.id.squeeze()) if box.is_track else -1\n",
    "        yolo_box_str = \" \".join([f\"{x:.6f}\" for x in box.xywhn.squeeze()])\n",
    "        annotation_lines.append(f\"{cls} {yolo_box_str} {conf:.6f} {tracking_id}\")\n",
    "    return \"\\n\".join(annotation_lines)\n",
    "\n",
    "\n",
    "def _process_results(results: Results, orig_paths: List[str], destination_folder: str):\n",
    "    for r, path in zip(results, orig_paths):\n",
    "        result = r.cpu()\n",
    "        boxes = result.boxes.numpy()\n",
    "\n",
    "        target_idxs = np.where(np.in1d(boxes.cls, target_classes))[0]\n",
    "        if len(target_idxs) == 0:  # Nothing to do!\n",
    "            print(f\"No containers found in {pathlib.Path(path).stem}\")\n",
    "            continue\n",
    "\n",
    "        image = result.orig_img.copy()\n",
    "        sensitive_idxs = np.where(np.in1d(boxes.cls, sensitive_classes))[0]\n",
    "\n",
    "        # Blur sensitive data\n",
    "        sensitive_bounding_boxes = boxes[sensitive_idxs].xyxy\n",
    "        image = blurring_tools.blur_inside_boxes(image, sensitive_bounding_boxes)\n",
    "        \n",
    "        # Draw annotation boxes\n",
    "        target_bounding_boxes = boxes[target_idxs].xyxy\n",
    "        image = blurring_tools.draw_bounding_boxes(image, target_bounding_boxes)\n",
    "\n",
    "        # Save image\n",
    "        save_path = os.path.join(destination_folder, pathlib.Path(path).name)\n",
    "        print(f\"Writing image: {save_path}\")\n",
    "        cv2.imwrite(save_path, image)\n",
    "\n",
    "        # Save annotation\n",
    "        annotation_str = _get_annotion_string_from_boxes(boxes[target_idxs])\n",
    "        base_name = pathlib.Path(path).stem\n",
    "        annotation_path = os.path.join(destination_folder, f\"{base_name}.txt\")\n",
    "        with open(annotation_path, 'w') as f:\n",
    "            f.write(annotation_str)"
   ]
  },
  {
   "cell_type": "code",
   "execution_count": null,
   "metadata": {},
   "outputs": [],
   "source": [
    "\n",
    "model = YOLO(\"../../datasets/oor/weights/yolov8s_coco_nc5_best.pt\")\n",
    "\n",
    "model_img_size = (1024, 1024)\n",
    "output_img_size = (1280, 720)\n",
    "\n",
    "input_image_folder = \"../../datasets/oor/first-official-training-dataset-oor/images\"\n",
    "destination_folder = \"../../datasets/oor/test_output\"\n",
    "\n",
    "pathlib.Path(destination_folder).mkdir(parents=True, exist_ok=True)"
   ]
  },
  {
   "cell_type": "code",
   "execution_count": null,
   "metadata": {},
   "outputs": [],
   "source": [
    "\n",
    "img_path_list = sorted(list(pathlib.Path(input_image_folder).glob(\"*.jpg\")))\n",
    "img_path_list = img_path_list[10:20]"
   ]
  },
  {
   "cell_type": "code",
   "execution_count": null,
   "metadata": {},
   "outputs": [],
   "source": [
    "for img_path in img_path_list:\n",
    "    image = cv2.imread(img_path.as_posix(), cv2.IMREAD_COLOR)\n",
    "    image = cv2.resize(image, output_img_size)\n",
    "    result = model.predict(\n",
    "        source=image,\n",
    "        project=\"../../datasets/oor/first-official-training-dataset-oor/\",\n",
    "        imgsz=model_img_size,\n",
    "        batch=16,\n",
    "        conf=0.434,\n",
    "        iou=0.7,\n",
    "        save_txt=False,\n",
    "        save_conf=True, \n",
    "    )\n",
    "    _process_results(results=result, orig_paths=[img_path], destination_folder=destination_folder)"
   ]
  },
  {
   "cell_type": "code",
   "execution_count": null,
   "metadata": {},
   "outputs": [],
   "source": []
  }
 ],
 "metadata": {
  "kernelspec": {
   "display_name": "objectherkenning-openbare-ruimte-xlfO-OLY-py3.8",
   "language": "python",
   "name": "python3"
  },
  "language_info": {
   "codemirror_mode": {
    "name": "ipython",
    "version": 3
   },
   "file_extension": ".py",
   "mimetype": "text/x-python",
   "name": "python",
   "nbconvert_exporter": "python",
   "pygments_lexer": "ipython3",
   "version": "3.8.10"
  }
 },
 "nbformat": 4,
 "nbformat_minor": 2
}
