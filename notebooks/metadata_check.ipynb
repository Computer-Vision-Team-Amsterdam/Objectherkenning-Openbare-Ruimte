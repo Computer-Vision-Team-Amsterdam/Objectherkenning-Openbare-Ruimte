{
 "cells": [
  {
   "cell_type": "markdown",
   "metadata": {},
   "source": [
    "# Some code to check production run metadata"
   ]
  },
  {
   "cell_type": "code",
   "execution_count": null,
   "metadata": {},
   "outputs": [],
   "source": [
    "import geopandas as gpd\n",
    "import pathlib\n",
    "import os\n",
    "import pandas as pd\n",
    "import shapely.geometry as sg\n",
    "import json\n",
    "\n",
    "from IPython.display import display, HTML\n",
    "\n",
    "RD_CRS = \"EPSG:28992\"  # CRS code for the Dutch Rijksdriehoek coordinate system\n",
    "LAT_LON_CRS = \"EPSG:4326\"  # CRS code for WGS84 latitude/longitude coordinate system"
   ]
  },
  {
   "cell_type": "markdown",
   "metadata": {},
   "source": [
    "## New style JSON metadata"
   ]
  },
  {
   "cell_type": "code",
   "execution_count": null,
   "metadata": {},
   "outputs": [],
   "source": [
    "date = \"2025-05-12\"  # Date of the run\n",
    "metadata_folder = f\"../datasets/oor/landingzone/metadata/{date}/\"  # Download \"full_frame_metadata\" from landingzone here\n",
    "\n",
    "MAX_GPS_DELAY = 5\n",
    "\n",
    "\n",
    "from collections.abc import MutableMapping\n",
    "\n",
    "def flatten_dict(dictionary: dict, parent_key: str=\"\", separator: str=\".\") -> dict:\n",
    "    items = []\n",
    "    for key, value in dictionary.items():\n",
    "        new_key = parent_key + separator + key if parent_key else key\n",
    "        if isinstance(value, MutableMapping):\n",
    "            items.extend(flatten_dict(value, new_key, separator=separator).items())\n",
    "        else:\n",
    "            items.append((new_key, value))\n",
    "    return dict(items)\n",
    "\n",
    "def load_metadata(metadata_file: str) -> pd.DataFrame:\n",
    "    with open(metadata_file, \"r\") as f:\n",
    "        json_content = json.load(f)\n",
    "\n",
    "    df = pd.DataFrame.from_dict(data=[flatten_dict(frame) for frame in json_content[\"frames\"]])\n",
    "    df[\"record_timestamp\"] = pd.to_datetime(df[\"record_timestamp\"], format=\"ISO8601\")\n",
    "    df[\"gps_data.coordinate_time_stamp\"] = pd.to_datetime(df[\"gps_data.coordinate_time_stamp\"], format=\"ISO8601\")\n",
    "    df[\"image_file_timestamp\"] = pd.to_datetime(df[\"image_file_timestamp\"], format=\"ISO8601\")\n",
    "    \n",
    "    df[\"gps_delay\"] = (df[\"image_file_timestamp\"] - df[\"gps_data.coordinate_time_stamp\"]).dt.total_seconds().to_numpy()\n",
    "    df[\"accept_delay\"] = df['gps_delay'] <= MAX_GPS_DELAY\n",
    "    \n",
    "    df[\"recording_name\"] = json_content[\"data_path\"].split(sep=\"/\")[-2]\n",
    "    df[\"metadata_file\"] = os.path.basename(metadata_file)\n",
    "    \n",
    "    df.drop(columns=\"image_path\", inplace=True)\n",
    "\n",
    "    return df\n",
    "\n",
    "def distance_and_duration(gdf: gpd.GeoDataFrame) -> pd.Series:\n",
    "    distance = sg.LineString(gdf.geometry).length / 1000\n",
    "    duration = gdf[\"image_file_timestamp\"].max() - gdf[\"image_file_timestamp\"].min()\n",
    "    speed = distance * 1000 / duration.seconds\n",
    "    fps = len(gdf) / duration.seconds\n",
    "    result = {\n",
    "        \"distance (km)\": distance,\n",
    "        \"duration\": pd.Timedelta(seconds=duration.seconds),\n",
    "        \"speed (m/s)\": speed,\n",
    "        \"FPS\": fps\n",
    "    }\n",
    "    return pd.Series(result)\n",
    "\n",
    "\n",
    "metadata_files = list(pathlib.Path(metadata_folder).glob(\"*.json\"))\n",
    "\n",
    "metadata_df = pd.concat([load_metadata(file) for file in metadata_files])\n",
    "metadata_df.set_index(\"image_file_name\", inplace=True)\n",
    "metadata_df.sort_index(inplace=True)\n",
    "metadata_df = metadata_df[~metadata_df.index.duplicated(keep='first')]\n",
    "\n",
    "metadata_df = gpd.GeoDataFrame(\n",
    "    metadata_df,\n",
    "    geometry=gpd.points_from_xy(\n",
    "        x=metadata_df[\"gps_data.longitude\"],\n",
    "        y=metadata_df[\"gps_data.latitude\"],\n",
    "        crs=LAT_LON_CRS,\n",
    "    ),\n",
    ").to_crs(RD_CRS)\n",
    "\n",
    "metadata_df[\"valid_point\"] = metadata_df.distance(sg.Point(121000, 488000)) < 50000\n",
    "\n",
    "# metadata = metadata[metadata[\"recording_name\"].isin([\"recording_2025-05-12_14-35-19\"])]\n",
    "\n",
    "groupby_column = \"recording_name\"\n",
    "# groupby_column = \"metadata_file\"\n",
    "distances_driven = metadata_df[metadata_df[\"valid_point\"]].groupby(by=groupby_column).apply(distance_and_duration, include_groups=False)\n",
    "\n",
    "display(HTML(distances_driven.to_html()))\n",
    "\n",
    "n_frames = len(metadata_df)\n",
    "valid_gps = metadata_df['valid_point'].sum()\n",
    "accept_delay = metadata_df['accept_delay'].sum()\n",
    "\n",
    "print(f\"Total distance:   {distances_driven['distance (km)'].sum():.1f} km\")\n",
    "print(f\"Number of frames: {n_frames}\")\n",
    "print(f\"Valid GPS:        {valid_gps} ({valid_gps / n_frames * 100:.1f}%)\")\n",
    "print(f\"Acceptable delay: {accept_delay} ({accept_delay / n_frames * 100:.1f}%) (max_delay={MAX_GPS_DELAY}s)\")"
   ]
  },
  {
   "cell_type": "code",
   "execution_count": null,
   "metadata": {},
   "outputs": [],
   "source": [
    "# Plot the data on a map\n",
    "metadata_df[metadata_df[\"valid_point\"]][[\"geometry\", \"gps_delay\", \"accept_delay\"]].explore(column=\"accept_delay\", tooltip=\"gps_delay\", cmap=\"RdYlGn\")"
   ]
  },
  {
   "cell_type": "markdown",
   "metadata": {},
   "source": [
    "## Old style CSV metadata"
   ]
  },
  {
   "cell_type": "code",
   "execution_count": null,
   "metadata": {},
   "outputs": [],
   "source": [
    "date = \"2024-11-11\"  # Dat of the run\n",
    "metadata_folder = f\"../datasets/oor/landingzone/metadata/{date}/\"  # Download \"full_frame_metadata\" from landingzone here\n",
    "\n",
    "metadata_files = list(pathlib.Path(metadata_folder).glob(\"*.csv\"))\n",
    "\n",
    "MAX_GPS_DELAY = 5\n",
    "\n",
    "def load_csv(file):\n",
    "    data = pd.read_csv(file)\n",
    "    data[\"pylon://0_frame_timestamp\"] = pd.to_datetime(data[\"pylon://0_frame_timestamp\"], unit=\"s\")\n",
    "    data[\"gps_internal_timestamp\"] = pd.to_datetime(data[\"gps_internal_timestamp\"], unit=\"s\")\n",
    "    data[\"gps_delay\"] = (data[\"pylon://0_frame_timestamp\"] - data[\"gps_internal_timestamp\"]).dt.total_seconds().to_numpy()\n",
    "    data[\"accept_delay\"] = data['gps_delay'] <= MAX_GPS_DELAY\n",
    "    \n",
    "    # Old naming convention\n",
    "    # data[\"filename\"] = \"0-\" + file.stem.split(sep=\"-\", maxsplit=1)[1] + \"-\" + data[\"pylon://0_frame_counter\"].astype(str)\n",
    "    # New naming convention\n",
    "    data[\"filename\"] = file.stem + \"-\" + data[\"pylon://0_frame_counter\"].astype(str).str.zfill(5)\n",
    "    \n",
    "    data[\"run_time\"] = file.stem.split(sep=\"-\")[-1]\n",
    "    data.set_index(\"filename\", inplace=True)\n",
    "    return data\n",
    "\n",
    "def distance_and_duration(df):\n",
    "    distance = sg.LineString(df.geometry).length / 1000\n",
    "    duration = df[\"pylon://0_frame_timestamp\"].iloc[-1] - df[\"pylon://0_frame_timestamp\"].iloc[0]\n",
    "    speed = distance * 1000 / duration.seconds\n",
    "    result = {\n",
    "        \"distance (km)\": distance,\n",
    "        \"duration\": pd.Timedelta(seconds=duration.seconds),\n",
    "        \"speed (m/s)\": speed\n",
    "    }\n",
    "    return pd.Series(result)\n",
    "\n",
    "metadata_df = pd.concat([load_csv(file) for file in metadata_files])\n",
    "metadata_df.sort_values(by=[\"pylon://0_frame_timestamp\"], inplace=True)\n",
    "metadata_df = metadata_df[~metadata_df.index.duplicated(keep='first')]\n",
    "\n",
    "metadata_df = gpd.GeoDataFrame(\n",
    "    metadata_df,\n",
    "    geometry=gpd.points_from_xy(\n",
    "        x=metadata_df.gps_lon,\n",
    "        y=metadata_df.gps_lat,\n",
    "        crs=LAT_LON_CRS,\n",
    "    ),\n",
    ").to_crs(RD_CRS)\n",
    "\n",
    "metadata_df[\"valid_point\"] = metadata_df.distance(sg.Point(121000, 488000)) < 50000\n",
    "\n",
    "# metadata = metadata[metadata[\"run_time\"].isin([\"H12M27S12\", \"H12M35S56\"])]\n",
    "\n",
    "distances_driven = metadata_df[metadata_df[\"valid_point\"]].groupby(by=\"run_time\").apply(distance_and_duration, include_groups=False)\n",
    "\n",
    "print(distances_driven)\n",
    "print()\n",
    "\n",
    "n_frames = len(metadata_df)\n",
    "valid_gps = metadata_df['valid_point'].sum()\n",
    "accept_delay = metadata_df['accept_delay'].sum()\n",
    "\n",
    "print(f\"Total distance:   {distances_driven['distance (km)'].sum():.1f} km\")\n",
    "print(f\"Number of frames: {n_frames}\")\n",
    "print(f\"Valid GPS:        {valid_gps} ({valid_gps / n_frames * 100:.1f}%)\")\n",
    "print(f\"Acceptable delay: {accept_delay} ({accept_delay / n_frames * 100:.1f}%) (max_delay={MAX_GPS_DELAY}s)\")"
   ]
  },
  {
   "cell_type": "code",
   "execution_count": null,
   "metadata": {},
   "outputs": [],
   "source": [
    "# Plot the data on a map\n",
    "metadata_df[metadata_df[\"valid_point\"]][[\"geometry\", \"gps_delay\", \"accept_delay\"]].explore(column=\"accept_delay\", tooltip=\"gps_delay\", cmap=\"RdYlGn\")"
   ]
  },
  {
   "cell_type": "markdown",
   "metadata": {},
   "source": [
    "## Optional: get stats for images as well"
   ]
  },
  {
   "cell_type": "code",
   "execution_count": null,
   "metadata": {},
   "outputs": [],
   "source": [
    "image_folder = f\"../datasets/oor/landingzone/images/{date}/\"  # Download images from landing zone here\n",
    "\n",
    "img_names = [os.path.splitext(os.path.basename(file))[0] for file in os.listdir(image_folder) if file.endswith(\".jpg\")]\n",
    "img_df = metadata_df.loc[img_names,:]\n",
    "img_df.sort_values(by=[\"run_time\", \"pylon://0_frame_counter\"], inplace=True)\n",
    "\n",
    "total_images = len(img_df)\n",
    "acceptable = sum(img_df[\"accept_delay\"])\n",
    "print(f\"Total images: {total_images}\")\n",
    "print(f\"Acceptable:   {acceptable} ({acceptable / total_images * 100:.1f}%)\")"
   ]
  },
  {
   "cell_type": "markdown",
   "metadata": {},
   "source": [
    "## GPX Plot - to view routes delivered in GPX format"
   ]
  },
  {
   "cell_type": "code",
   "execution_count": null,
   "metadata": {},
   "outputs": [],
   "source": [
    "from gpxplotter import read_gpx_file, create_folium_map, add_segment_to_map\n",
    "\n",
    "the_map = create_folium_map()\n",
    "for track in read_gpx_file(\"../OOR/notebooks/26_08_2024_12_26.gpx\"):\n",
    "    for i, segment in enumerate(track['segments']):\n",
    "        add_segment_to_map(the_map, segment)\n",
    "\n",
    "# To display the map in a Jupyter notebook:\n",
    "the_map"
   ]
  }
 ],
 "metadata": {
  "kernelspec": {
   "display_name": "oor_py312",
   "language": "python",
   "name": "python3"
  },
  "language_info": {
   "codemirror_mode": {
    "name": "ipython",
    "version": 3
   },
   "file_extension": ".py",
   "mimetype": "text/x-python",
   "name": "python",
   "nbconvert_exporter": "python",
   "pygments_lexer": "ipython3",
   "version": "3.12.0"
  }
 },
 "nbformat": 4,
 "nbformat_minor": 2
}
