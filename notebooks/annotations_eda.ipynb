{
 "cells": [
  {
   "cell_type": "markdown",
   "metadata": {},
   "source": [
    "# Exploratory analysis of annotations"
   ]
  },
  {
   "cell_type": "code",
   "execution_count": 1,
   "metadata": {},
   "outputs": [],
   "source": [
    "import pandas as pd\n",
    "import pathlib\n",
    "import os"
   ]
  },
  {
   "cell_type": "code",
   "execution_count": 2,
   "metadata": {},
   "outputs": [],
   "source": [
    "# Gather all annotations and compute area\n",
    "\n",
    "annotations_folder = \"../../datasets/oor/processed-merged-batches-first-official-training-dataset-oor/labels\"\n",
    "\n",
    "img_shape = (3840, 2160)\n",
    "img_area = img_shape[0] * img_shape[1]\n",
    "\n",
    "splits = [\"train\", \"val\", \"test\"]\n",
    "\n",
    "cls_id_to_name = {\n",
    "    0: \"person\",\n",
    "    1: \"license plate\",\n",
    "    2: \"container\",\n",
    "    3: \"mobile toilet\",\n",
    "    4: \"scaffolding\",\n",
    "}\n",
    "\n",
    "data = {\n",
    "    \"split\": [],\n",
    "    \"filename\": [],\n",
    "    \"class_id\": [],\n",
    "    \"class_name\": [],\n",
    "    \"box_area\": [],\n",
    "    \"box_percent\": [],\n",
    "}\n",
    "\n",
    "for split in splits:\n",
    "    annotation_files = pathlib.Path(os.path.join(annotations_folder, split)).glob(\"*.txt\")\n",
    "    for af in annotation_files:\n",
    "        with open(af, 'r') as file_content:\n",
    "            for line in file_content.readlines():\n",
    "                cls, _, _, w, h = map(float, line.strip().split())\n",
    "                area = (img_shape[0] * w) * (img_shape[1] * h)\n",
    "                data[\"split\"].append(split)\n",
    "                data[\"filename\"].append(af.stem)\n",
    "                data[\"class_id\"].append(int(cls))\n",
    "                data[\"class_name\"].append(cls_id_to_name[int(cls)])\n",
    "                data[\"box_area\"].append(area)\n",
    "                data[\"box_percent\"].append(area / img_area)\n",
    "\n",
    "box_df = pd.DataFrame(data=data)"
   ]
  },
  {
   "cell_type": "code",
   "execution_count": null,
   "metadata": {},
   "outputs": [],
   "source": [
    "box_df.head(5)"
   ]
  },
  {
   "cell_type": "code",
   "execution_count": null,
   "metadata": {},
   "outputs": [],
   "source": [
    "# Plot resulting distribution\n",
    "\n",
    "import matplotlib.pyplot as plt\n",
    "\n",
    "axes = box_df.hist(\n",
    "    column=\"box_percent\", by=\"class_name\",\n",
    "    bins=20, layout=(3,2), legend=False,\n",
    "    yrot=90, sharex=False, sharey=False,\n",
    "    log=True, figsize=(8,12))\n",
    "for ax in axes.flatten():\n",
    "    ax.set_xlabel('Area %')\n",
    "    ax.set_ylabel('Count')\n",
    "    # ax.set_ylim(bottom=1, top=100)\n",
    "\n",
    "plt.savefig(\"box_area_distribution.png\")\n",
    "plt.show()\n"
   ]
  },
  {
   "cell_type": "code",
   "execution_count": null,
   "metadata": {},
   "outputs": [],
   "source": [
    "# Compute 1/3rd percentiles foir each class. These values are used for S, M, L in metrics_utils.py, class BoxSize\n",
    "box_df[[\"class_name\", \"box_percent\"]].groupby(\"class_name\").quantile(q=[1/3, 2/3])"
   ]
  },
  {
   "cell_type": "code",
   "execution_count": null,
   "metadata": {},
   "outputs": [],
   "source": []
  }
 ],
 "metadata": {
  "kernelspec": {
   "display_name": "py38",
   "language": "python",
   "name": "python3"
  },
  "language_info": {
   "codemirror_mode": {
    "name": "ipython",
    "version": 3
   },
   "file_extension": ".py",
   "mimetype": "text/x-python",
   "name": "python",
   "nbconvert_exporter": "python",
   "pygments_lexer": "ipython3",
   "version": "3.8.16"
  }
 },
 "nbformat": 4,
 "nbformat_minor": 2
}
