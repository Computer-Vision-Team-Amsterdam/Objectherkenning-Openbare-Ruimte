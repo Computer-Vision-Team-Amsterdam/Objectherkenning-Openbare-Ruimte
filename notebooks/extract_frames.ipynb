{
 "cells": [
  {
   "cell_type": "code",
   "execution_count": null,
   "metadata": {},
   "outputs": [],
   "source": [
    "from azure.ai.ml import MLClient, command, Input, Output\n",
    "from azure.ai.ml.constants import AssetTypes, InputOutputModes\n",
    "from azure.identity import DefaultAzureCredential, InteractiveBrowserCredential\n",
    "\n",
    "try:\n",
    "    credential = DefaultAzureCredential()\n",
    "    # Check if given credential can get token successfully.\n",
    "    credential.get_token(\"https://management.azure.com/.default\")\n",
    "except Exception as ex:\n",
    "    # Fall back to InteractiveBrowserCredential in case DefaultAzureCredential not work\n",
    "    credential = InteractiveBrowserCredential()\n",
    "\n",
    "# Get a handle to workspace\n",
    "ml_client = MLClient.from_config(credential=credential)\n",
    "\n",
    "input_data_asset = ml_client.data.get(\"oor_velotech\", version=\"1\")\n",
    "output_data_asset = ml_client.data.get(\"oor_velotech_frames\", version=\"1\")\n",
    "\n",
    "# to successfully create a job, customize the parameters below based on your workspace resources\n",
    "job = command(\n",
    "    code=\"../\",\n",
    "    command='poetry run python objectherkenning_openbare_ruimte/frame_extraction/frame_extraction.py --input_folder \"${{inputs.input_folder}}\" --output_folder \"${{outputs.output_folder}}\"',\n",
    "    inputs={\n",
    "        \"input_folder\": Input(path=input_data_asset.id,\n",
    "            type=AssetTypes.URI_FOLDER,\n",
    "            mode=InputOutputModes.RO_MOUNT\n",
    "        )\n",
    "    },\n",
    "    outputs={\n",
    "        \"output_folder\": Output(path=output_data_asset.path,\n",
    "            type=AssetTypes.URI_FOLDER,\n",
    "            mode=InputOutputModes.RW_MOUNT\n",
    "        )\n",
    "    },\n",
    "    compute=\"cpu-daan\",\n",
    "    environment=\"oor-test-environment:1\"\n",
    "    )\n",
    "\n",
    "# submit job\n",
    "returned_job = ml_client.create_or_update(job)\n",
    "aml_url = returned_job.studio_url\n",
    "print(\"Monitor your job at\", aml_url)"
   ]
  },
  {
   "cell_type": "code",
   "execution_count": null,
   "metadata": {},
   "outputs": [],
   "source": []
  }
 ],
 "metadata": {
  "kernelspec": {
   "display_name": ".venv",
   "language": "python",
   "name": "python3"
  },
  "language_info": {
   "codemirror_mode": {
    "name": "ipython",
    "version": 3
   },
   "file_extension": ".py",
   "mimetype": "text/x-python",
   "name": "python",
   "nbconvert_exporter": "python",
   "pygments_lexer": "ipython3",
   "version": "3.8.10"
  }
 },
 "nbformat": 4,
 "nbformat_minor": 2
}
