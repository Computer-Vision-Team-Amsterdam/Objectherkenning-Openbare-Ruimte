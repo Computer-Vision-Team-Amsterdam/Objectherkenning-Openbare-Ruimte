{
 "cells": [
  {
   "cell_type": "markdown",
   "id": "0",
   "metadata": {},
   "source": [
    "# Tuning thresholds based on validated detections\n",
    "\n",
    "This notebook assumes detections from multiple `{date}` runs have been validated and grouped (e.g. by using the validation script) and saved as follows:\n",
    "\n",
    "```\n",
    "data_folder/{date}          # contains TP detections\n",
    "data_folder/{date}/fp_cat1  # contains FP detections \n",
    "data_folder/{date}/fp_cat2  # contains TP detections that are too far away\n",
    "```"
   ]
  },
  {
   "cell_type": "code",
   "execution_count": null,
   "id": "1",
   "metadata": {},
   "outputs": [],
   "source": [
    "import json\n",
    "import os\n",
    "\n",
    "import pandas as pd\n",
    "\n",
    "\n",
    "def json_dir_to_df(dir: str) -> pd.DataFrame:\n",
    "    json_files = [file for file in os.listdir(dir) if file.endswith(\".json\")]\n",
    "    dfs = []\n",
    "    for file in json_files:\n",
    "        with open(os.path.join(dir, file)) as f:\n",
    "            json_data = json.load(f)\n",
    "            dfs.append(pd.json_normalize(json_data, \"detections\"))\n",
    "    \n",
    "    df = (pd.concat(dfs, ignore_index=True)\n",
    "          .drop(\"tracking_id\", axis=\"columns\")\n",
    "          .rename(columns=col_map)\n",
    "    )\n",
    "    df[\"area\"] = df[\"width\"] * df[\"height\"]\n",
    "    return df\n",
    "\n",
    "\n",
    "data_folder = \"../datasets/oor/val/detection_metadata/\"\n",
    "\n",
    "cat_name_map = {\n",
    "    \"\": \"tp\",\n",
    "    \"fp_cat1\": \"fp\",\n",
    "    \"fp_cat2\": \"dist\",\n",
    "}\n",
    "\n",
    "col_map = {\n",
    "    \"boundingBox.x_center\": \"x_center\",\n",
    "    \"boundingBox.y_center\": \"y_center\",\n",
    "    \"boundingBox.width\": \"width\",\n",
    "    \"boundingBox.height\": \"height\",\n",
    "}"
   ]
  },
  {
   "cell_type": "code",
   "execution_count": null,
   "id": "2",
   "metadata": {},
   "outputs": [],
   "source": [
    "dfs = []\n",
    "\n",
    "date_subfolders = [dir for dir in os.listdir(data_folder) if os.path.isdir(os.path.join(data_folder, dir))]\n",
    "for date in date_subfolders:\n",
    "    for (cat, cat_name) in cat_name_map.items():\n",
    "        cat_df = json_dir_to_df(os.path.join(data_folder, date, cat))\n",
    "        cat_df[\"category\"] = cat_name\n",
    "        dfs.append(cat_df)\n",
    "\n",
    "detections_df = pd.concat(dfs, ignore_index=True)"
   ]
  },
  {
   "cell_type": "code",
   "execution_count": null,
   "id": "3",
   "metadata": {},
   "outputs": [],
   "source": [
    "detections_df.head(5)"
   ]
  },
  {
   "cell_type": "code",
   "execution_count": null,
   "id": "4",
   "metadata": {},
   "outputs": [],
   "source": [
    "# Print statistics for a combination of object class and attribute.\n",
    "# Output is ready to be copied into markdown.\n",
    "\n",
    "target_class = 2  # 2, 3, 4\n",
    "attribute = \"confidence\"  # e.g. \"confidence\", \"area\", \"height\", \"width\"\n",
    "\n",
    "object_df = detections_df[detections_df[\"object_class\"]==target_class]\n",
    "\n",
    "md = (object_df\n",
    "      .groupby(by=\"category\")[attribute]\n",
    "      .describe(percentiles=[0.1, 0.2, 0.8, 0.9])\n",
    "      .iloc[::-1]\n",
    "      .to_markdown(floatfmt=\".4f\")\n",
    ")\n",
    "\n",
    "print(md)"
   ]
  },
  {
   "cell_type": "code",
   "execution_count": null,
   "id": "5",
   "metadata": {},
   "outputs": [],
   "source": [
    "# Save boxplots for the attributes of a specified object class.\n",
    "\n",
    "import matplotlib.pyplot as plt\n",
    "\n",
    "target_class = 2  # 2, 3, 4\n",
    "\n",
    "\n",
    "class_map = {\n",
    "    2: \"Container\",\n",
    "    3: \"Mobile toilet\",\n",
    "    4: \"Scaffolding\",\n",
    "}\n",
    "\n",
    "object_df = detections_df[detections_df[\"object_class\"]==target_class]\n",
    "\n",
    "fig, axes = plt.subplots(2, 2, figsize=[10, 10], constrained_layout=True)\n",
    "object_df.boxplot(column=[\"confidence\"], by=\"category\", ax=axes[0][0])\n",
    "object_df.boxplot(column=[\"area\"], by=\"category\", ax=axes[0][1])\n",
    "object_df.boxplot(column=[\"width\"], by=\"category\", ax=axes[1][0])\n",
    "object_df.boxplot(column=[\"height\"], by=\"category\", ax=axes[1][1])\n",
    "fig.suptitle(class_map[target_class]);\n",
    "\n",
    "plt.savefig(\n",
    "    os.path.join(data_folder, f\"{class_map[target_class]} - boxplots.png\"),\n",
    "    dpi=150\n",
    ")"
   ]
  },
  {
   "cell_type": "code",
   "execution_count": null,
   "id": "6",
   "metadata": {},
   "outputs": [],
   "source": []
  }
 ],
 "metadata": {
  "kernelspec": {
   "display_name": "oor_py312",
   "language": "python",
   "name": "python3"
  },
  "language_info": {
   "codemirror_mode": {
    "name": "ipython",
    "version": 3
   },
   "file_extension": ".py",
   "mimetype": "text/x-python",
   "name": "python",
   "nbconvert_exporter": "python",
   "pygments_lexer": "ipython3",
   "version": "3.12.0"
  }
 },
 "nbformat": 4,
 "nbformat_minor": 5
}
