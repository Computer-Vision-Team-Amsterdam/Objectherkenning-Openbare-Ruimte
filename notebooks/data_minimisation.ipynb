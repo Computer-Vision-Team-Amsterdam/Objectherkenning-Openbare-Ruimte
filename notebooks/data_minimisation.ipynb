{
 "cells": [
  {
   "cell_type": "markdown",
   "metadata": {},
   "source": [
    "## Data Minimisation Experiment\n",
    "\n",
    "To prepare the data for the experiment, download from the landingzone the detections and images in the following structure:\n",
    "\n",
    "- `input_folder /`\n",
    "  - `images`\n",
    "  - `detections`\n",
    "\n",
    "Run this notebook to generate the images for the different scenarios which will be saved in `output_folder`. "
   ]
  },
  {
   "cell_type": "code",
   "execution_count": null,
   "metadata": {},
   "outputs": [],
   "source": [
    "import os\n",
    "import pandas as pd\n",
    "\n",
    "from objectherkenning_openbare_ruimte.data_minimisation.data_minimisation import DataMinimisation\n",
    "\n",
    "# Set appropriate paths\n",
    "input_folder = \"../datasets/oor/data-minimalisation/prep_data\"\n",
    "images_folder = os.path.join(input_folder, \"images\")\n",
    "detections_folder =  os.path.join(input_folder, \"detections\")\n",
    "\n",
    "output_folder = \"../datasets/oor/data-minimalisation/blur_test\"\n",
    "\n",
    "# Folder to store detections in YOLO format\n",
    "annotations_folder = os.path.join(input_folder, \"labels\")"
   ]
  },
  {
   "cell_type": "code",
   "execution_count": null,
   "metadata": {},
   "outputs": [],
   "source": [
    "# Convert detections from \"landingzone format\" back to YOLO annotation files\n",
    "\n",
    "df = pd.concat([pd.read_csv(os.path.join(detections_folder, file)) for file in os.listdir(detections_folder) if file.endswith(\".csv\")])\n",
    "images = [file for file in os.listdir(images_folder) if file.endswith(\".jpg\")]\n",
    "df = df[df[\"image_name\"].isin(images)]\n",
    "\n",
    "os.makedirs(annotations_folder, exist_ok=True)\n",
    "\n",
    "for image in images:\n",
    "    out_file = os.path.join(annotations_folder, f\"{os.path.splitext(image)[0]}.txt\")\n",
    "    image_df = df[df[\"image_name\"] == image].set_index(\"image_name\")\n",
    "    image_df.to_csv(out_file, sep=\" \", index=False, header=False)"
   ]
  },
  {
   "cell_type": "code",
   "execution_count": null,
   "metadata": {},
   "outputs": [],
   "source": [
    "# Generate images for scenarios\n",
    "\n",
    "data_minimisation = DataMinimisation()\n",
    "\n",
    "data_minimisation.process_folder(images_folder, annotations_folder, output_folder, image_format=\"jpg\")"
   ]
  },
  {
   "cell_type": "code",
   "execution_count": null,
   "metadata": {},
   "outputs": [],
   "source": []
  }
 ],
 "metadata": {
  "kernelspec": {
   "display_name": "oor_py312",
   "language": "python",
   "name": "python3"
  },
  "language_info": {
   "codemirror_mode": {
    "name": "ipython",
    "version": 3
   },
   "file_extension": ".py",
   "mimetype": "text/x-python",
   "name": "python",
   "nbconvert_exporter": "python",
   "pygments_lexer": "ipython3",
   "version": "3.12.0"
  }
 },
 "nbformat": 4,
 "nbformat_minor": 2
}
