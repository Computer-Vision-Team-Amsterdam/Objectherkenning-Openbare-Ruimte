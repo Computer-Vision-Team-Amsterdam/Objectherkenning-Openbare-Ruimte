{
 "cells": [
  {
   "cell_type": "markdown",
   "metadata": {},
   "source": [
    "## Perform data minimisation"
   ]
  },
  {
   "cell_type": "code",
   "execution_count": null,
   "metadata": {},
   "outputs": [],
   "source": [
    "import os\n",
    "import sys\n",
    "\n",
    "sys.path.append(\"../..\")\n",
    "\n",
    "from objectherkenning_openbare_ruimte.performance_evaluation_pipeline.metrics import tba_calculator\n",
    "from objectherkenning_openbare_ruimte.data_minimisation.data_minimisation import DataMinimisation, Scenarios"
   ]
  },
  {
   "cell_type": "code",
   "execution_count": null,
   "metadata": {},
   "outputs": [],
   "source": [
    "data_folder = \"../../datasets/oor/data-minimalisation\"\n",
    "annotations = \"predictions\"\n",
    "output_folder = \"../../datasets/oor/data-minimalisation/blurred\""
   ]
  },
  {
   "cell_type": "code",
   "execution_count": null,
   "metadata": {},
   "outputs": [],
   "source": [
    "data_minimisation = DataMinimisation()\n",
    "\n",
    "images_folder = os.path.join(data_folder, \"images\")\n",
    "labels_folder = os.path.join(data_folder, annotations)\n",
    "\n",
    "data_minimisation.process_folder(images_folder, labels_folder, output_folder, image_format=\"png\")"
   ]
  },
  {
   "cell_type": "code",
   "execution_count": null,
   "metadata": {},
   "outputs": [],
   "source": [
    "# Single image\n",
    "image_path = \"../../datasets/oor/data-minimalisation/images/TMX7316010203-001666_pano_0000_003484_left.png\"\n",
    "scenario = Scenarios.A\n",
    "\n",
    "data_minimisation = DataMinimisation()\n",
    "\n",
    "image, yolo_annotations = DataMinimisation.load_image_and_annotations(image_path, labels_folder)\n",
    "image = data_minimisation.process_image(image, yolo_annotations, scenario)"
   ]
  },
  {
   "cell_type": "code",
   "execution_count": null,
   "metadata": {},
   "outputs": [],
   "source": [
    "from PIL import Image\n",
    "from IPython.display import display\n",
    "\n",
    "display(Image.fromarray(image[:, :, ::-1]))"
   ]
  },
  {
   "cell_type": "markdown",
   "metadata": {},
   "source": [
    "## Evaluate performance"
   ]
  },
  {
   "cell_type": "code",
   "execution_count": null,
   "metadata": {},
   "outputs": [],
   "source": [
    "# This cell tells python to use the local version of CVToolkit instead of the installed one.\n",
    "# Use for testing purposes until branch feature/BCV-970-oor-metrics is merged.\n",
    "import sys\n",
    "import os\n",
    "\n",
    "module_path = os.path.abspath(os.path.join(\"../../CVToolkit\"))\n",
    "if module_path not in sys.path:\n",
    "    sys.path.insert(0, module_path)"
   ]
  },
  {
   "cell_type": "markdown",
   "metadata": {},
   "source": [
    "## Collect sample data"
   ]
  },
  {
   "cell_type": "code",
   "execution_count": null,
   "metadata": {},
   "outputs": [],
   "source": [
    "# Find all images with containers\n",
    "\n",
    "import os\n",
    "import pandas as pd\n",
    "import pathlib\n",
    "\n",
    "from typing import List\n",
    "\n",
    "def get_labels(label_file: str) -> List[int]:\n",
    "    labels: List[int] = [0]*5\n",
    "    if not os.path.isfile(label_file):\n",
    "        return labels\n",
    "    with open(label_file, \"r\") as file:\n",
    "        lines = file.readlines()\n",
    "        for line in lines:\n",
    "            label = int(line.split(sep=\" \")[0])\n",
    "            labels[label] += 1\n",
    "    return labels\n",
    "\n",
    "data_folder = \"../../datasets/oor/first-train-oor-nc5\"\n",
    "\n",
    "data = {\n",
    "    \"filename\": [],\n",
    "    \"n_person\": [],\n",
    "    \"n_license_plate\": [],\n",
    "    \"n_container\": [],\n",
    "}\n",
    "\n",
    "images = list(pathlib.Path(os.path.join(data_folder, \"images\", \"val\")).glob(\"*.png\"))\n",
    "\n",
    "for img in images:\n",
    "    filename = img.stem\n",
    "    label_file = os.path.join(data_folder, \"labels\", \"val\", filename + \".txt\")\n",
    "    labels = get_labels(label_file)\n",
    "    data[\"filename\"].append(filename)\n",
    "    data[\"n_person\"].append(labels[0])\n",
    "    data[\"n_license_plate\"].append(labels[1])\n",
    "    data[\"n_container\"].append(labels[2])\n",
    "\n",
    "df = pd.DataFrame(data=data)"
   ]
  },
  {
   "cell_type": "code",
   "execution_count": null,
   "metadata": {},
   "outputs": [],
   "source": [
    "import shutil\n",
    "\n",
    "filenames = df.query(\"n_container > 0 & (n_license_plate > 0 | n_person > 0)\")[\"filename\"].to_list()\n",
    "\n",
    "target_dir = \"../../datasets/oor/data-minimalisation\"\n",
    "\n",
    "pathlib.Path(os.path.join(target_dir, \"images\")).mkdir(parents=True, exist_ok=True)\n",
    "pathlib.Path(os.path.join(target_dir, \"labels\")).mkdir(parents=True, exist_ok=True)\n",
    "\n",
    "for file in filenames:\n",
    "    img_src = os.path.join(data_folder, \"images\", \"val\", file + \".png\")\n",
    "    img_dst = os.path.join(target_dir, \"images\", file + \".png\")\n",
    "    shutil.copyfile(img_src, img_dst)\n",
    "    lab_src = os.path.join(data_folder, \"labels\", \"val\", file + \".txt\")\n",
    "    lab_dst = os.path.join(target_dir, \"labels\", file + \".txt\")\n",
    "    shutil.copyfile(lab_src, lab_dst)"
   ]
  },
  {
   "cell_type": "code",
   "execution_count": null,
   "metadata": {},
   "outputs": [],
   "source": []
  }
 ],
 "metadata": {
  "kernelspec": {
   "display_name": "objectherkenning-openbare-ruimte-xlfO-OLY-py3.8",
   "language": "python",
   "name": "python3"
  },
  "language_info": {
   "codemirror_mode": {
    "name": "ipython",
    "version": 3
   },
   "file_extension": ".py",
   "mimetype": "text/x-python",
   "name": "python",
   "nbconvert_exporter": "python",
   "pygments_lexer": "ipython3",
   "version": "3.8.10"
  }
 },
 "nbformat": 4,
 "nbformat_minor": 2
}
